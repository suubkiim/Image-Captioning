{
  "nbformat": 4,
  "nbformat_minor": 0,
  "metadata": {
    "colab": {
      "name": "Image Captioning.ipynb",
      "provenance": [],
      "collapsed_sections": [],
      "toc_visible": true,
      "include_colab_link": true
    },
    "kernelspec": {
      "name": "python3",
      "display_name": "Python 3"
    },
    "accelerator": "GPU"
  },
  "cells": [
    {
      "cell_type": "markdown",
      "metadata": {
        "id": "view-in-github",
        "colab_type": "text"
      },
      "source": [
        "<a href=\"https://colab.research.google.com/github/suubkiim/Image-Captioning/blob/master/Image_Captioning.ipynb\" target=\"_parent\"><img src=\"https://colab.research.google.com/assets/colab-badge.svg\" alt=\"Open In Colab\"/></a>"
      ]
    },
    {
      "cell_type": "code",
      "metadata": {
        "id": "rhqsMv9CGSXw",
        "colab_type": "code",
        "outputId": "94dfecc8-8498-4db6-eb49-44d29f7952d8",
        "colab": {
          "base_uri": "https://localhost:8080/",
          "height": 120
        }
      },
      "source": [
        "from google.colab import drive\n",
        "drive.mount('/content/drive')"
      ],
      "execution_count": 1,
      "outputs": [
        {
          "output_type": "stream",
          "text": [
            "Go to this URL in a browser: https://accounts.google.com/o/oauth2/auth?client_id=947318989803-6bn6qk8qdgf4n4g3pfee6491hc0brc4i.apps.googleusercontent.com&redirect_uri=urn%3aietf%3awg%3aoauth%3a2.0%3aoob&response_type=code&scope=email%20https%3a%2f%2fwww.googleapis.com%2fauth%2fdocs.test%20https%3a%2f%2fwww.googleapis.com%2fauth%2fdrive%20https%3a%2f%2fwww.googleapis.com%2fauth%2fdrive.photos.readonly%20https%3a%2f%2fwww.googleapis.com%2fauth%2fpeopleapi.readonly\n",
            "\n",
            "Enter your authorization code:\n",
            "··········\n",
            "Mounted at /content/drive\n"
          ],
          "name": "stdout"
        }
      ]
    },
    {
      "cell_type": "code",
      "metadata": {
        "id": "Jntq-8ZPHKKc",
        "colab_type": "code",
        "outputId": "f9ebeb56-e2f1-4065-9629-b1a34dad9378",
        "colab": {
          "base_uri": "https://localhost:8080/",
          "height": 33
        }
      },
      "source": [
        "!ls /content/"
      ],
      "execution_count": 2,
      "outputs": [
        {
          "output_type": "stream",
          "text": [
            "drive  sample_data\n"
          ],
          "name": "stdout"
        }
      ]
    },
    {
      "cell_type": "code",
      "metadata": {
        "id": "2maK6fY4kmQx",
        "colab_type": "code",
        "outputId": "0ef4ae3b-513e-4545-eaaa-4f7160273b22",
        "colab": {
          "base_uri": "https://localhost:8080/",
          "height": 53
        }
      },
      "source": [
        "!ls  /content/drive/'My Drive'/'Colab Notebooks'/neural_image_captioning-master/neural_image_captioning-master/trained_models/IAPR_2012/iapr_weights.90-1.99.hdf5\n"
      ],
      "execution_count": 3,
      "outputs": [
        {
          "output_type": "stream",
          "text": [
            "'/content/drive/My Drive/Colab Notebooks/neural_image_captioning-master/neural_image_captioning-master/trained_models/IAPR_2012/iapr_weights.90-1.99.hdf5'\n"
          ],
          "name": "stdout"
        }
      ]
    },
    {
      "cell_type": "code",
      "metadata": {
        "id": "63l03iAxIGpv",
        "colab_type": "code",
        "colab": {}
      },
      "source": [
        "import os\n",
        "import sys\n",
        "sys.path.insert(0, '/content/drive/My Drive/Colab Notebooks/neural_image_captioning-master/neural_image_captioning-master/src')"
      ],
      "execution_count": 0,
      "outputs": []
    },
    {
      "cell_type": "markdown",
      "metadata": {
        "id": "Q6t8r9PrK2mQ",
        "colab_type": "text"
      },
      "source": [
        "#### 코드 출처 : https://github.com/oarriaga/neural_image_captioning"
      ]
    },
    {
      "cell_type": "markdown",
      "metadata": {
        "id": "y1eJh-sJcKAw",
        "colab_type": "text"
      },
      "source": [
        "## Data preprocessing"
      ]
    },
    {
      "cell_type": "code",
      "metadata": {
        "id": "no_UozTNEiQd",
        "colab_type": "code",
        "colab": {
          "base_uri": "https://localhost:8080/",
          "height": 79
        },
        "outputId": "399b07ac-e82e-403c-a2f3-d22f47b6eda2"
      },
      "source": [
        "import matplotlib.pyplot as plt\n",
        "from evaluator import Evaluator\n",
        "from generator import Generator\n",
        "from keras.callbacks import CSVLogger\n",
        "from keras.callbacks import ModelCheckpoint\n",
        "from keras.callbacks import ReduceLROnPlateau\n",
        "from models import NIC\n",
        "from data_manager import DataManager\n",
        "from keras.models import load_model\n",
        "\n",
        "%matplotlib inline\n",
        "plt.rcParams['figure.figsize'] = (18, 18)\n",
        "plt.rcParams['image.interpolation'] = 'nearest'"
      ],
      "execution_count": 5,
      "outputs": [
        {
          "output_type": "stream",
          "text": [
            "Using TensorFlow backend.\n"
          ],
          "name": "stderr"
        },
        {
          "output_type": "display_data",
          "data": {
            "text/html": [
              "<p style=\"color: red;\">\n",
              "The default version of TensorFlow in Colab will soon switch to TensorFlow 2.x.<br>\n",
              "We recommend you <a href=\"https://www.tensorflow.org/guide/migrate\" target=\"_blank\">upgrade</a> now \n",
              "or ensure your notebook will continue to use TensorFlow 1.x via the <code>%tensorflow_version 1.x</code> magic:\n",
              "<a href=\"https://colab.research.google.com/notebooks/tensorflow_version.ipynb\" target=\"_blank\">more info</a>.</p>\n"
            ],
            "text/plain": [
              "<IPython.core.display.HTML object>"
            ]
          },
          "metadata": {
            "tags": []
          }
        }
      ]
    },
    {
      "cell_type": "code",
      "metadata": {
        "id": "nx34vHsGEp-s",
        "colab_type": "code",
        "colab": {}
      },
      "source": [
        "num_epochs = 500\n",
        "batch_size = 256\n",
        "root_path = '/content/drive/My Drive/Colab Notebooks/neural_image_captioning-master/neural_image_captioning-master/datasets/IAPR_2012/'\n",
        "captions_filename = root_path + 'IAPR_2012_captions.txt'\n",
        "data_manager = DataManager(data_filename=captions_filename,\n",
        "                            max_caption_length=30,\n",
        "                            word_frequency_threshold=2,\n",
        "                            extract_image_features=False,\n",
        "                            cnn_extractor='inception',\n",
        "                            image_directory=root_path + 'iaprtc12/',\n",
        "                            split_data=True,\n",
        "                            dump_path=root_path + 'preprocessed_data/')"
      ],
      "execution_count": 0,
      "outputs": []
    },
    {
      "cell_type": "code",
      "metadata": {
        "id": "ooGoahSOIur_",
        "colab_type": "code",
        "outputId": "23660bc4-0f57-4beb-e784-b5faddac1942",
        "colab": {
          "base_uri": "https://localhost:8080/",
          "height": 500
        }
      },
      "source": [
        "data_manager.preprocess()\n",
        "print(data_manager.captions[0])\n",
        "print(data_manager.word_frequencies[0:20])"
      ],
      "execution_count": 7,
      "outputs": [
        {
          "output_type": "stream",
          "text": [
            "Loading data ...\n",
            "Loaded 19625 captions\n",
            "Removing captions longer than 30 ...\n",
            "Number of files removed: 1047\n",
            "Current number of files: 18578\n",
            "Removing words with a frequency less than 2 ...\n",
            "Number of words removed: 1971\n",
            "Current number of words: 2166\n",
            "['two', 'black', 'and', 'white', 'penguins', 'on', 'grey', 'rocks']\n",
            "[['a' '40160']\n",
            " ['and' '14910']\n",
            " ['in' '14609']\n",
            " ['with' '14211']\n",
            " ['the' '11373']\n",
            " ['on' '9232']\n",
            " ['of' '8381']\n",
            " ['brown' '6398']\n",
            " ['are' '5271']\n",
            " ['grey' '5163']\n",
            " ['is' '4111']\n",
            " ['white' '3594']\n",
            " ['green' '3447']\n",
            " ['standing' '3447']\n",
            " ['foreground' '3228']\n",
            " ['blue' '2803']\n",
            " ['black' '2697']\n",
            " ['at' '2651']\n",
            " ['front' '2505']\n",
            " ['two' '2455']]\n"
          ],
          "name": "stdout"
        }
      ]
    },
    {
      "cell_type": "code",
      "metadata": {
        "id": "qZ_WNZTwXbg4",
        "colab_type": "code",
        "colab": {}
      },
      "source": [
        "################################################\n",
        "#####           Generator 재정의           #####\n",
        "################################################\n",
        "\n",
        "import pickle\n",
        "import random\n",
        "\n",
        "import h5py\n",
        "import numpy as np\n",
        "import pandas as pd\n",
        "\n",
        "class Generator():\n",
        "    \"\"\" Data generator to the neural image captioning model (NIC).\n",
        "    The flow method outputs a list of two dictionaries containing\n",
        "    the inputs and outputs to the network.\n",
        "    # Arguments:\n",
        "        data_path = data_path to the preprocessed data computed by the\n",
        "            Preprocessor class.\n",
        "    \"\"\"\n",
        "    def __init__(self,data_path='preprocessed_data/',\n",
        "                 training_filename=None,\n",
        "                 validation_filename=None,\n",
        "                 image_features_filename=None,\n",
        "                 batch_size=100):\n",
        "\n",
        "        self.data_path = data_path\n",
        "        if training_filename == None:\n",
        "            self.training_filename = data_path + 'training_data.txt'\n",
        "        else:\n",
        "            self.training_filename = self.data_path + training_filename\n",
        "\n",
        "\n",
        "        if validation_filename == None:\n",
        "            self.validation_filename = data_path + 'validation_data.txt'\n",
        "        else:\n",
        "            self.validation_filename = self.data_path + validation_filename\n",
        "\n",
        "        if image_features_filename == None:\n",
        "            self.image_features_filename = (data_path +\n",
        "                                            'inception_image_name_to_features.h5')\n",
        "        else:\n",
        "            self.image_features_filename = self.data_path + image_features_filename\n",
        "\n",
        "\n",
        "        self.dictionary = None\n",
        "        self.training_dataset = None\n",
        "        self.validation_dataset = None\n",
        "        self.image_names_to_features = None\n",
        "\n",
        "        data_logs = np.genfromtxt(self.data_path + 'data_parameters_r.log',\n",
        "                                  delimiter='*', dtype='str')\n",
        "        data_logs = dict(zip(data_logs[:, 0], data_logs[:, 1]))\n",
        "      \n",
        "        self.MAX_TOKEN_LENGTH = int(data_logs['max_caption_length:']) + 2\n",
        "        self.IMG_FEATS = int(data_logs['IMG_FEATS:'])\n",
        "        self.BOS = str(data_logs['BOS:'])\n",
        "        self.EOS = str(data_logs['EOS:'])\n",
        "        self.PAD = str(data_logs['PAD:'])\n",
        "        self.VOCABULARY_SIZE = None\n",
        "        self.word_to_id = None\n",
        "        self.id_to_word = None\n",
        "        self.BATCH_SIZE = batch_size\n",
        "\n",
        "        self.load_dataset()\n",
        "        self.load_vocabulary()\n",
        "        self.load_image_features()\n",
        "\n",
        "    def load_vocabulary(self):\n",
        "        print('Loading vocabulary...')\n",
        "        word_to_id = pickle.load(open(self.data_path + 'word_to_id.p', 'rb'))\n",
        "        id_to_word = pickle.load(open(self.data_path + 'id_to_word.p', 'rb'))\n",
        "        self.VOCABULARY_SIZE = len(word_to_id)\n",
        "        self.word_to_id = word_to_id\n",
        "        self.id_to_word = id_to_word\n",
        "\n",
        "    def load_image_features(self):\n",
        "        self.image_names_to_features = h5py.File(\n",
        "                                        self.image_features_filename, 'r')\n",
        "\n",
        "    def load_dataset(self):\n",
        "\n",
        "        print('Loading training dataset...')\n",
        "        train_data = pd.read_table(self.training_filename, delimiter='*')\n",
        "        train_data = np.asarray(train_data,dtype=str)\n",
        "        self.training_dataset = train_data\n",
        "\n",
        "        print('Loading validation dataset...')\n",
        "        validation_dataset = pd.read_table(\n",
        "                                self.validation_filename,delimiter='*')\n",
        "        validation_dataset = np.asarray(validation_dataset, dtype=str)\n",
        "        self.validation_dataset = validation_dataset\n",
        "\n",
        "    def return_dataset(self, path=None, dataset_name='all', mode='training'):\n",
        "        print('Loading dataset in memory...')\n",
        "        if path == None:\n",
        "            path = self.data_path\n",
        "        if mode == 'training':\n",
        "            data = pd.read_table(self.training_filename, sep='*')\n",
        "        elif mode == 'test':\n",
        "            data = pd.read_table(path + 'test_data.txt', sep='*')\n",
        "        if dataset_name != 'all':\n",
        "            data = data[data['image_names'].str.contains(dataset_name)]\n",
        "\n",
        "        data = np.asarray(data)\n",
        "        data_size = data.shape[0]\n",
        "        image_names = data[:, 0]\n",
        "        image_features = np.zeros((data_size,self.MAX_TOKEN_LENGTH,\n",
        "                                   self.IMG_FEATS))\n",
        "        image_captions = np.zeros((data_size,self.MAX_TOKEN_LENGTH,\n",
        "                                   self.VOCABULARY_SIZE))\n",
        "        target_captions = np.zeros((data_size,self.MAX_TOKEN_LENGTH,\n",
        "                                   self.VOCABULARY_SIZE))\n",
        "\n",
        "        for image_arg, image_name in enumerate(image_names):\n",
        "            caption = data[image_arg,1]\n",
        "            one_hot_caption = self.format_to_one_hot(caption)\n",
        "            image_captions[image_arg, :, :] = one_hot_caption\n",
        "            target_captions[image_arg, :, :] = self.get_one_hot_target(\n",
        "                                                            one_hot_caption)\n",
        "            image_features[image_arg, :, :] = self.get_image_features(\n",
        "                                                            image_name)\n",
        "\n",
        "        return image_features, image_captions, target_captions,image_names\n",
        "\n",
        "    def flow(self, mode):\n",
        "\n",
        "        if mode == 'train':\n",
        "            data = self.training_dataset\n",
        "            #random.shuffle(data) #this is probably correct but untested \n",
        "        if mode == 'validation':\n",
        "            data = self.validation_dataset\n",
        "\n",
        "        image_names = data[:,0].tolist()\n",
        "        empty_batch = self.make_empty_batch()\n",
        "        captions_batch = empty_batch[0]\n",
        "        images_batch = empty_batch[1]\n",
        "        targets_batch = empty_batch[2]\n",
        "\n",
        "        batch_counter = 0\n",
        "        while True:\n",
        "            for data_arg, image_name in enumerate(image_names):\n",
        "\n",
        "                caption = data[data_arg,1]\n",
        "                one_hot_caption = self.format_to_one_hot(caption)\n",
        "                captions_batch[batch_counter, :, :] = one_hot_caption\n",
        "                targets_batch[batch_counter, :, :]  = self.get_one_hot_target(\n",
        "                                                            one_hot_caption)\n",
        "                images_batch[batch_counter, :, :]   = self.get_image_features(\n",
        "                                                            image_name)\n",
        "\n",
        "                if batch_counter == self.BATCH_SIZE - 1:\n",
        "                    yield_dictionary = self.wrap_in_dictionary(captions_batch,\n",
        "                                                                images_batch,\n",
        "                                                                targets_batch)\n",
        "                    yield yield_dictionary\n",
        "\n",
        "                    empty_batch = self.make_empty_batch()\n",
        "                    captions_batch = empty_batch[0]\n",
        "                    images_batch = empty_batch[1]\n",
        "                    targets_batch = empty_batch[2]\n",
        "                    batch_counter = 0\n",
        "\n",
        "                batch_counter = batch_counter + 1\n",
        "\n",
        "    def make_test_input(self,image_name=None):\n",
        "\n",
        "        if image_name == None:\n",
        "            image_name = random.choice(self.training_dataset[:, 0].tolist())\n",
        "\n",
        "        one_hot_caption = np.zeros((1, self.MAX_TOKEN_LENGTH,\n",
        "                                        self.VOCABULARY_SIZE))\n",
        "        begin_token_id = self.word_to_id[self.BOS]\n",
        "        one_hot_caption[0, 0, begin_token_id] = 1\n",
        "        image_features = np.zeros((1, self.MAX_TOKEN_LENGTH, self.IMG_FEATS))\n",
        "        image_features[0, :, :] = self.get_image_features(image_name)\n",
        "        return one_hot_caption, image_features, image_name\n",
        "\n",
        "    def make_empty_batch(self):\n",
        "        captions_batch = np.zeros((self.BATCH_SIZE,self.MAX_TOKEN_LENGTH,\n",
        "                                    self.VOCABULARY_SIZE))\n",
        "        images_batch = np.zeros((self.BATCH_SIZE, self.MAX_TOKEN_LENGTH,\n",
        "                                    self.IMG_FEATS))\n",
        "        targets_batch = np.zeros((self.BATCH_SIZE,self.MAX_TOKEN_LENGTH,\n",
        "                                    self.VOCABULARY_SIZE))\n",
        "        return captions_batch, images_batch , targets_batch\n",
        "\n",
        "    def format_to_one_hot(self,caption):\n",
        "        tokenized_caption = caption.split()\n",
        "        tokenized_caption = [self.BOS] + tokenized_caption + [self.EOS]\n",
        "        one_hot_caption = np.zeros((self.MAX_TOKEN_LENGTH,\n",
        "                                    self.VOCABULARY_SIZE))\n",
        "        word_ids = [self.word_to_id[word] for word in tokenized_caption\n",
        "                        if word in self.word_to_id]\n",
        "        for sequence_arg, word_id in enumerate(word_ids):\n",
        "            one_hot_caption[sequence_arg,word_id] = 1\n",
        "        return one_hot_caption\n",
        "\n",
        "    def get_image_features(self, image_name):\n",
        "        image_features = self.image_names_to_features[image_name]\\\n",
        "                                            ['image_features'][:]\n",
        "        image_input = np.zeros((self.MAX_TOKEN_LENGTH, self.IMG_FEATS))\n",
        "        image_input[0,:] =  image_features\n",
        "        return image_input\n",
        "\n",
        "    def get_one_hot_target(self,one_hot_caption):\n",
        "        one_hot_target = np.zeros_like(one_hot_caption)\n",
        "        one_hot_target[:-1, :] = one_hot_caption[1:, :]\n",
        "        return one_hot_target\n",
        "\n",
        "    def wrap_in_dictionary(self,one_hot_caption,\n",
        "                           image_features,\n",
        "                           one_hot_target):\n",
        "\n",
        "        return [{'text': one_hot_caption,\n",
        "                'image': image_features},\n",
        "                {'output': one_hot_target}]\n",
        "\n",
        "\n"
      ],
      "execution_count": 0,
      "outputs": []
    },
    {
      "cell_type": "code",
      "metadata": {
        "id": "OFcSTvPWc3d6",
        "colab_type": "code",
        "outputId": "b48fda74-21b4-4388-885e-a71abcc49a08",
        "colab": {
          "base_uri": "https://localhost:8080/",
          "height": 642
        }
      },
      "source": [
        "################################################\n",
        "#####           Evaluator 재정의           #####\n",
        "################################################\n",
        "import pandas as pd\n",
        "import numpy as np\n",
        "import matplotlib.pyplot as plt\n",
        "import pickle\n",
        "import h5py\n",
        "\n",
        "class Evaluator(object):\n",
        "\n",
        "    def __init__(self, model,\n",
        "            data_path='preprocessed_data/',\n",
        "            images_path='iaprtc12/',\n",
        "            log_filename='data_parameters_r.log',\n",
        "            test_data_filename='test_data.txt',\n",
        "            word_to_id_filename='word_to_id.p',\n",
        "            id_to_word_filename='id_to_word.p',\n",
        "            image_name_to_features_filename='inception_image_name_to_features.h5'):\n",
        "        self.model = model\n",
        "        self.data_path = data_path\n",
        "        self.images_path = images_path\n",
        "        self.log_filename = log_filename\n",
        "        data_logs = self._load_log_file()\n",
        "        self.BOS = str(data_logs['BOS:'])\n",
        "        self.EOS = str(data_logs['EOS:'])\n",
        "        self.IMG_FEATS = int(data_logs['IMG_FEATS:'])\n",
        "        self.MAX_TOKEN_LENGTH = int(data_logs['max_caption_length:']) + 2\n",
        "        self.test_data = pd.read_table(data_path +\n",
        "                                       test_data_filename, sep='*')\n",
        "        self.word_to_id = pickle.load(open(data_path +\n",
        "                                           word_to_id_filename, 'rb'))\n",
        "        self.id_to_word = pickle.load(open(data_path +\n",
        "                                           id_to_word_filename, 'rb'))\n",
        "        self.VOCABULARY_SIZE = len(self.word_to_id)\n",
        "        self.image_names_to_features = h5py.File(data_path +\n",
        "                                        image_name_to_features_filename)\n",
        "\n",
        "    def _load_log_file(self):\n",
        "        data_logs = np.genfromtxt(self.data_path + 'data_parameters_r.log',\n",
        "                                  delimiter='* ', dtype='str')\n",
        "        data_logs = dict(zip(data_logs[:, 0], data_logs[:, 1]))\n",
        "        return data_logs\n",
        "\n",
        "\n",
        "    def display_caption(self, image_file=None, data_name=None):\n",
        "\n",
        "        if data_name == 'ad_2016':\n",
        "            test_data = self.test_data[self.test_data['image_names'].\\\n",
        "                                            str.contains('ad_2016')]\n",
        "        elif data_name == 'iaprtc12':\n",
        "            test_data = self.test_data[self.test_data['image_names'].\\\n",
        "                                            str.contains('iaprtc12')]\n",
        "        else:\n",
        "            test_data = self.test_data\n",
        "\n",
        "        if image_file == None:\n",
        "            image_name = np.asarray(test_data.sample(1))[0][0]\n",
        "        else:\n",
        "            image_name = image_file\n",
        "        features = self.image_names_to_features[image_name]['image_features'][:]\n",
        "        text = np.zeros((1, self.MAX_TOKEN_LENGTH, self.VOCABULARY_SIZE))\n",
        "        begin_token_id = self.word_to_id[self.BOS]\n",
        "        text[0, 0, begin_token_id] = 1\n",
        "        image_features = np.zeros((1, self.MAX_TOKEN_LENGTH, self.IMG_FEATS))\n",
        "        image_features[0, 0, :] = features\n",
        "        print(self.BOS)\n",
        "        for word_arg in range(self.MAX_TOKEN_LENGTH - 1):\n",
        "            predictions = self.model.predict([text, image_features])\n",
        "            word_id = np.argmax(predictions[0, word_arg, :])\n",
        "            next_word_arg = word_arg + 1\n",
        "            text[0, next_word_arg, word_id] = 1\n",
        "            word = self.id_to_word[word_id]\n",
        "            print(word)\n",
        "            if word == self.EOS:\n",
        "                break\n",
        "            #images_path = '../dataset/images/'\n",
        "        plt.imshow(plt.imread(self.images_path + image_name))\n",
        "        plt.show()\n",
        "\n",
        "    def write_captions(self, dump_filename=None):\n",
        "        if dump_filename == None:\n",
        "            dump_filename = self.data_path + 'predicted_captions.txt'\n",
        "\n",
        "        predicted_captions = open(dump_filename, 'w')\n",
        "\n",
        "        image_names = self.test_data['image_names'].tolist()\n",
        "        for image_name in image_names:\n",
        "\n",
        "            features = self.image_names_to_features[image_name]\\\n",
        "                                            ['image_features'][:]\n",
        "            text = np.zeros((1, self.MAX_TOKEN_LENGTH, self.VOCABULARY_SIZE))\n",
        "            begin_token_id = self.word_to_id[self.BOS]\n",
        "            text[0, 0, begin_token_id] = 1\n",
        "            image_features = np.zeros((1, self.MAX_TOKEN_LENGTH,\n",
        "                                                self.IMG_FEATS))\n",
        "            image_features[0, 0, :] = features\n",
        "            neural_caption = []\n",
        "            for word_arg in range(self.MAX_TOKEN_LENGTH-1):\n",
        "                predictions = self.model.predict([text, image_features])\n",
        "                word_id = np.argmax(predictions[0, word_arg, :])\n",
        "                next_word_arg = word_arg + 1\n",
        "                text[0, next_word_arg, word_id] = 1\n",
        "                word = self.id_to_word[word_id]\n",
        "                if word == '<E>':\n",
        "                    break\n",
        "                else:\n",
        "                    neural_caption.append(word)\n",
        "            neural_caption = ' '.join(neural_caption)\n",
        "            predicted_captions.write(neural_caption+'\\n')\n",
        "        predicted_captions.close()\n",
        "        target_captions = self.test_data['caption']\n",
        "        target_captions.to_csv(self.data_path + 'target_captions.txt',\n",
        "                               header=False, index=False)\n",
        "\n",
        "if __name__ == '__main__':\n",
        "    from keras.models import load_model\n",
        "\n",
        "    root_path = '/content/drive/My Drive/Colab Notebooks/neural_image_captioning-master/neural_image_captioning-master/datasets/IAPR_2012/'\n",
        "    data_path = root_path + 'preprocessed_data/'\n",
        "    images_path = root_path + 'iaprtc12/'\n",
        "    model_filename = '/content/drive/My Drive/Colab Notebooks/neural_image_captioning-master/neural_image_captioning-master/trained_models/IAPR_2012/iapr_weights.90-1.99.hdf5'\n",
        "    model = load_model(model_filename)\n",
        "    evaluator = Evaluator(model, data_path, images_path)\n",
        "    #evaluator.write_captions()\n",
        "    evaluator.display_caption()\n"
      ],
      "execution_count": 16,
      "outputs": [
        {
          "output_type": "stream",
          "text": [
            "/usr/local/lib/python3.6/dist-packages/keras/engine/saving.py:350: UserWarning: Error in loading the saved optimizer state. As a result, your model is starting with a freshly initialized optimizer.\n",
            "  warnings.warn('Error in loading the saved optimizer '\n"
          ],
          "name": "stderr"
        },
        {
          "output_type": "stream",
          "text": [
            "<S>\n",
            "a\n",
            "garden\n",
            "with\n",
            "a\n",
            "shore\n",
            "a\n",
            "shore\n",
            "and\n",
            "a\n",
            "tree\n",
            "in\n",
            "the\n",
            "foreground\n",
            "<E>\n"
          ],
          "name": "stdout"
        },
        {
          "output_type": "error",
          "ename": "FileNotFoundError",
          "evalue": "ignored",
          "traceback": [
            "\u001b[0;31m---------------------------------------------------------------------------\u001b[0m",
            "\u001b[0;31mFileNotFoundError\u001b[0m                         Traceback (most recent call last)",
            "\u001b[0;32m<ipython-input-16-f8563a3025be>\u001b[0m in \u001b[0;36m<module>\u001b[0;34m()\u001b[0m\n\u001b[1;32m    118\u001b[0m     \u001b[0mevaluator\u001b[0m \u001b[0;34m=\u001b[0m \u001b[0mEvaluator\u001b[0m\u001b[0;34m(\u001b[0m\u001b[0mmodel\u001b[0m\u001b[0;34m,\u001b[0m \u001b[0mdata_path\u001b[0m\u001b[0;34m,\u001b[0m \u001b[0mimages_path\u001b[0m\u001b[0;34m)\u001b[0m\u001b[0;34m\u001b[0m\u001b[0;34m\u001b[0m\u001b[0m\n\u001b[1;32m    119\u001b[0m     \u001b[0;31m#evaluator.write_captions()\u001b[0m\u001b[0;34m\u001b[0m\u001b[0;34m\u001b[0m\u001b[0;34m\u001b[0m\u001b[0m\n\u001b[0;32m--> 120\u001b[0;31m     \u001b[0mevaluator\u001b[0m\u001b[0;34m.\u001b[0m\u001b[0mdisplay_caption\u001b[0m\u001b[0;34m(\u001b[0m\u001b[0;34m)\u001b[0m\u001b[0;34m\u001b[0m\u001b[0;34m\u001b[0m\u001b[0m\n\u001b[0m",
            "\u001b[0;32m<ipython-input-16-f8563a3025be>\u001b[0m in \u001b[0;36mdisplay_caption\u001b[0;34m(self, image_file, data_name)\u001b[0m\n\u001b[1;32m     71\u001b[0m                 \u001b[0;32mbreak\u001b[0m\u001b[0;34m\u001b[0m\u001b[0;34m\u001b[0m\u001b[0m\n\u001b[1;32m     72\u001b[0m             \u001b[0;31m#images_path = '../dataset/images/'\u001b[0m\u001b[0;34m\u001b[0m\u001b[0;34m\u001b[0m\u001b[0;34m\u001b[0m\u001b[0m\n\u001b[0;32m---> 73\u001b[0;31m         \u001b[0mplt\u001b[0m\u001b[0;34m.\u001b[0m\u001b[0mimshow\u001b[0m\u001b[0;34m(\u001b[0m\u001b[0mplt\u001b[0m\u001b[0;34m.\u001b[0m\u001b[0mimread\u001b[0m\u001b[0;34m(\u001b[0m\u001b[0mself\u001b[0m\u001b[0;34m.\u001b[0m\u001b[0mimages_path\u001b[0m \u001b[0;34m+\u001b[0m \u001b[0mimage_name\u001b[0m\u001b[0;34m)\u001b[0m\u001b[0;34m)\u001b[0m\u001b[0;34m\u001b[0m\u001b[0;34m\u001b[0m\u001b[0m\n\u001b[0m\u001b[1;32m     74\u001b[0m         \u001b[0mplt\u001b[0m\u001b[0;34m.\u001b[0m\u001b[0mshow\u001b[0m\u001b[0;34m(\u001b[0m\u001b[0;34m)\u001b[0m\u001b[0;34m\u001b[0m\u001b[0;34m\u001b[0m\u001b[0m\n\u001b[1;32m     75\u001b[0m \u001b[0;34m\u001b[0m\u001b[0m\n",
            "\u001b[0;32m/usr/local/lib/python3.6/dist-packages/matplotlib/pyplot.py\u001b[0m in \u001b[0;36mimread\u001b[0;34m(fname, format)\u001b[0m\n\u001b[1;32m   2126\u001b[0m \u001b[0;34m@\u001b[0m\u001b[0mdocstring\u001b[0m\u001b[0;34m.\u001b[0m\u001b[0mcopy\u001b[0m\u001b[0;34m(\u001b[0m\u001b[0mmatplotlib\u001b[0m\u001b[0;34m.\u001b[0m\u001b[0mimage\u001b[0m\u001b[0;34m.\u001b[0m\u001b[0mimread\u001b[0m\u001b[0;34m)\u001b[0m\u001b[0;34m\u001b[0m\u001b[0;34m\u001b[0m\u001b[0m\n\u001b[1;32m   2127\u001b[0m \u001b[0;32mdef\u001b[0m \u001b[0mimread\u001b[0m\u001b[0;34m(\u001b[0m\u001b[0mfname\u001b[0m\u001b[0;34m,\u001b[0m \u001b[0mformat\u001b[0m\u001b[0;34m=\u001b[0m\u001b[0;32mNone\u001b[0m\u001b[0;34m)\u001b[0m\u001b[0;34m:\u001b[0m\u001b[0;34m\u001b[0m\u001b[0;34m\u001b[0m\u001b[0m\n\u001b[0;32m-> 2128\u001b[0;31m     \u001b[0;32mreturn\u001b[0m \u001b[0mmatplotlib\u001b[0m\u001b[0;34m.\u001b[0m\u001b[0mimage\u001b[0m\u001b[0;34m.\u001b[0m\u001b[0mimread\u001b[0m\u001b[0;34m(\u001b[0m\u001b[0mfname\u001b[0m\u001b[0;34m,\u001b[0m \u001b[0mformat\u001b[0m\u001b[0;34m)\u001b[0m\u001b[0;34m\u001b[0m\u001b[0;34m\u001b[0m\u001b[0m\n\u001b[0m\u001b[1;32m   2129\u001b[0m \u001b[0;34m\u001b[0m\u001b[0m\n\u001b[1;32m   2130\u001b[0m \u001b[0;34m\u001b[0m\u001b[0m\n",
            "\u001b[0;32m/usr/local/lib/python3.6/dist-packages/matplotlib/image.py\u001b[0m in \u001b[0;36mimread\u001b[0;34m(fname, format)\u001b[0m\n\u001b[1;32m   1415\u001b[0m                              \u001b[0;34m'with Pillow installed matplotlib can handle '\u001b[0m\u001b[0;34m\u001b[0m\u001b[0;34m\u001b[0m\u001b[0m\n\u001b[1;32m   1416\u001b[0m                              'more images' % list(handlers))\n\u001b[0;32m-> 1417\u001b[0;31m         \u001b[0;32mwith\u001b[0m \u001b[0mImage\u001b[0m\u001b[0;34m.\u001b[0m\u001b[0mopen\u001b[0m\u001b[0;34m(\u001b[0m\u001b[0mfname\u001b[0m\u001b[0;34m)\u001b[0m \u001b[0;32mas\u001b[0m \u001b[0mimage\u001b[0m\u001b[0;34m:\u001b[0m\u001b[0;34m\u001b[0m\u001b[0;34m\u001b[0m\u001b[0m\n\u001b[0m\u001b[1;32m   1418\u001b[0m             \u001b[0;32mreturn\u001b[0m \u001b[0mpil_to_array\u001b[0m\u001b[0;34m(\u001b[0m\u001b[0mimage\u001b[0m\u001b[0;34m)\u001b[0m\u001b[0;34m\u001b[0m\u001b[0;34m\u001b[0m\u001b[0m\n\u001b[1;32m   1419\u001b[0m \u001b[0;34m\u001b[0m\u001b[0m\n",
            "\u001b[0;32m/usr/local/lib/python3.6/dist-packages/PIL/Image.py\u001b[0m in \u001b[0;36mopen\u001b[0;34m(fp, mode)\u001b[0m\n\u001b[1;32m   2528\u001b[0m \u001b[0;34m\u001b[0m\u001b[0m\n\u001b[1;32m   2529\u001b[0m     \u001b[0;32mif\u001b[0m \u001b[0mfilename\u001b[0m\u001b[0;34m:\u001b[0m\u001b[0;34m\u001b[0m\u001b[0;34m\u001b[0m\u001b[0m\n\u001b[0;32m-> 2530\u001b[0;31m         \u001b[0mfp\u001b[0m \u001b[0;34m=\u001b[0m \u001b[0mbuiltins\u001b[0m\u001b[0;34m.\u001b[0m\u001b[0mopen\u001b[0m\u001b[0;34m(\u001b[0m\u001b[0mfilename\u001b[0m\u001b[0;34m,\u001b[0m \u001b[0;34m\"rb\"\u001b[0m\u001b[0;34m)\u001b[0m\u001b[0;34m\u001b[0m\u001b[0;34m\u001b[0m\u001b[0m\n\u001b[0m\u001b[1;32m   2531\u001b[0m         \u001b[0mexclusive_fp\u001b[0m \u001b[0;34m=\u001b[0m \u001b[0;32mTrue\u001b[0m\u001b[0;34m\u001b[0m\u001b[0;34m\u001b[0m\u001b[0m\n\u001b[1;32m   2532\u001b[0m \u001b[0;34m\u001b[0m\u001b[0m\n",
            "\u001b[0;31mFileNotFoundError\u001b[0m: [Errno 2] No such file or directory: '/content/drive/My Drive/Colab Notebooks/neural_image_captioning-master/neural_image_captioning-master/datasets/IAPR_2012/iaprtc12/images/40/40444.jpg'"
          ]
        }
      ]
    },
    {
      "cell_type": "code",
      "metadata": {
        "id": "xe_YN7QdIxFV",
        "colab_type": "code",
        "outputId": "18bfe6d1-1023-4b1f-b8fa-369ff9b0b9df",
        "colab": {
          "base_uri": "https://localhost:8080/",
          "height": 100
        }
      },
      "source": [
        "preprocessed_data_path = root_path + 'preprocessed_data/'\n",
        "generator = Generator(data_path=preprocessed_data_path,\n",
        "                      batch_size=batch_size)\n",
        "num_training_samples =  generator.training_dataset.shape[0]\n",
        "num_validation_samples = generator.validation_dataset.shape[0]\n",
        "print('Number of training samples:', num_training_samples)\n",
        "print('Number of validation samples:', num_validation_samples)"
      ],
      "execution_count": 11,
      "outputs": [
        {
          "output_type": "stream",
          "text": [
            "Loading training dataset...\n",
            "Loading validation dataset...\n",
            "Loading vocabulary...\n",
            "Number of training samples: 11889\n",
            "Number of validation samples: 2973\n"
          ],
          "name": "stdout"
        }
      ]
    },
    {
      "cell_type": "markdown",
      "metadata": {
        "id": "N2r2bgDVcD2x",
        "colab_type": "text"
      },
      "source": [
        "\n",
        "## NIC model specifications\n"
      ]
    },
    {
      "cell_type": "code",
      "metadata": {
        "id": "sS6ydbdFWQPd",
        "colab_type": "code",
        "outputId": "8fffcf9c-9a96-45ba-e39d-f168d55cc102",
        "colab": {
          "base_uri": "https://localhost:8080/",
          "height": 533
        }
      },
      "source": [
        "\n",
        "model = NIC(max_token_length=generator.MAX_TOKEN_LENGTH,\n",
        "            vocabulary_size=generator.VOCABULARY_SIZE,\n",
        "            rnn='gru',\n",
        "            num_image_features=generator.IMG_FEATS,\n",
        "            hidden_size=256,\n",
        "            embedding_size=256)\n",
        "\n",
        "model.compile(loss='categorical_crossentropy',\n",
        "              optimizer = 'adam',\n",
        "              metrics=['accuracy'])\n",
        "\n",
        "print(model.summary())\n",
        "print('Number of parameters:', model.count_params())"
      ],
      "execution_count": 12,
      "outputs": [
        {
          "output_type": "stream",
          "text": [
            "Model: \"model_1\"\n",
            "__________________________________________________________________________________________________\n",
            "Layer (type)                    Output Shape         Param #     Connected to                     \n",
            "==================================================================================================\n",
            "text (InputLayer)               (None, 32, 2169)     0                                            \n",
            "__________________________________________________________________________________________________\n",
            "text_mask (Masking)             (None, 32, 2169)     0           text[0][0]                       \n",
            "__________________________________________________________________________________________________\n",
            "image (InputLayer)              (None, 32, 2048)     0                                            \n",
            "__________________________________________________________________________________________________\n",
            "time_distributed_1 (TimeDistrib (None, 32, 256)      555520      text_mask[0][0]                  \n",
            "__________________________________________________________________________________________________\n",
            "time_distributed_2 (TimeDistrib (None, 32, 256)      524544      image[0][0]                      \n",
            "__________________________________________________________________________________________________\n",
            "text_dropout (Dropout)          (None, 32, 256)      0           time_distributed_1[0][0]         \n",
            "__________________________________________________________________________________________________\n",
            "image_dropout (Dropout)         (None, 32, 256)      0           time_distributed_2[0][0]         \n",
            "__________________________________________________________________________________________________\n",
            "add_1 (Add)                     (None, 32, 256)      0           text_dropout[0][0]               \n",
            "                                                                 image_dropout[0][0]              \n",
            "__________________________________________________________________________________________________\n",
            "recurrent_network (GRU)         (None, 32, 256)      393984      add_1[0][0]                      \n",
            "__________________________________________________________________________________________________\n",
            "output (TimeDistributed)        (None, 32, 2169)     557433      recurrent_network[0][0]          \n",
            "==================================================================================================\n",
            "Total params: 2,031,481\n",
            "Trainable params: 2,031,481\n",
            "Non-trainable params: 0\n",
            "__________________________________________________________________________________________________\n",
            "None\n",
            "Number of parameters: 2031481\n"
          ],
          "name": "stdout"
        }
      ]
    },
    {
      "cell_type": "code",
      "metadata": {
        "id": "5x_y8p6Kbirc",
        "colab_type": "code",
        "outputId": "4545780c-e21e-4215-ad69-9f3dcccd785f",
        "colab": {
          "base_uri": "https://localhost:8080/",
          "height": 676
        }
      },
      "source": [
        "image = plt.imread('/content/drive/My Drive/Colab Notebooks/neural_image_captioning-master/neural_image_captioning-master/images/NIC.png')\n",
        "plt.imshow(image)\n",
        "plt.axis('off')\n",
        "plt.show()"
      ],
      "execution_count": 13,
      "outputs": [
        {
          "output_type": "display_data",
          "data": {
            "image/png": "[encoded data removed]",
            "text/plain": [
              "<Figure size 1296x1296 with 1 Axes>"
            ]
          },
          "metadata": {
            "tags": []
          }
        }
      ]
    },
    {
      "cell_type": "markdown",
      "metadata": {
        "id": "pVAqKuhAb-7Y",
        "colab_type": "text"
      },
      "source": [
        "## Testing Model"
      ]
    },
    {
      "cell_type": "code",
      "metadata": {
        "id": "SFuFrQeFb6WE",
        "colab_type": "code",
        "outputId": "82367566-2fce-450d-e77c-f8d2e32a89ad",
        "colab": {
          "base_uri": "https://localhost:8080/",
          "height": 70
        }
      },
      "source": [
        "root_path = '/content/drive/My Drive/Colab Notebooks/neural_image_captioning-master/neural_image_captioning-master/datasets/IAPR_2012/'\n",
        "data_path = root_path + 'preprocessed_data/'\n",
        "images_path = root_path + 'iaprtc12/'\n",
        "model_filename = '/content/drive/My Drive/Colab Notebooks/neural_image_captioning-master/neural_image_captioning-master/trained_models/IAPR_2012/iapr_weights.90-1.99.hdf5'\n",
        "model = load_model(model_filename)\n",
        "evaluator = Evaluator(model, data_path, images_path)"
      ],
      "execution_count": 14,
      "outputs": [
        {
          "output_type": "stream",
          "text": [
            "/usr/local/lib/python3.6/dist-packages/keras/engine/saving.py:350: UserWarning: Error in loading the saved optimizer state. As a result, your model is starting with a freshly initialized optimizer.\n",
            "  warnings.warn('Error in loading the saved optimizer '\n"
          ],
          "name": "stderr"
        }
      ]
    },
    {
      "cell_type": "code",
      "metadata": {
        "id": "kuUBfq8KcmLv",
        "colab_type": "code",
        "outputId": "15a386df-1804-4a42-d788-eb14c5dfe754",
        "colab": {
          "base_uri": "https://localhost:8080/",
          "height": 575
        }
      },
      "source": [
        "evaluator.display_caption()"
      ],
      "execution_count": 15,
      "outputs": [
        {
          "output_type": "stream",
          "text": [
            "<S>\n",
            "tourists\n",
            "are\n",
            "sitting\n",
            "on\n",
            "a\n",
            "bars\n",
            "in\n",
            "a\n",
            "room\n",
            "with\n",
            "white\n",
            "walls\n",
            "and\n",
            "<E>\n"
          ],
          "name": "stdout"
        },
        {
          "output_type": "error",
          "ename": "FileNotFoundError",
          "evalue": "ignored",
          "traceback": [
            "\u001b[0;31m---------------------------------------------------------------------------\u001b[0m",
            "\u001b[0;31mFileNotFoundError\u001b[0m                         Traceback (most recent call last)",
            "\u001b[0;32m<ipython-input-15-eef1b97a6840>\u001b[0m in \u001b[0;36m<module>\u001b[0;34m()\u001b[0m\n\u001b[0;32m----> 1\u001b[0;31m \u001b[0mevaluator\u001b[0m\u001b[0;34m.\u001b[0m\u001b[0mdisplay_caption\u001b[0m\u001b[0;34m(\u001b[0m\u001b[0;34m)\u001b[0m\u001b[0;34m\u001b[0m\u001b[0;34m\u001b[0m\u001b[0m\n\u001b[0m",
            "\u001b[0;32m<ipython-input-10-f8563a3025be>\u001b[0m in \u001b[0;36mdisplay_caption\u001b[0;34m(self, image_file, data_name)\u001b[0m\n\u001b[1;32m     71\u001b[0m                 \u001b[0;32mbreak\u001b[0m\u001b[0;34m\u001b[0m\u001b[0;34m\u001b[0m\u001b[0m\n\u001b[1;32m     72\u001b[0m             \u001b[0;31m#images_path = '../dataset/images/'\u001b[0m\u001b[0;34m\u001b[0m\u001b[0;34m\u001b[0m\u001b[0;34m\u001b[0m\u001b[0m\n\u001b[0;32m---> 73\u001b[0;31m         \u001b[0mplt\u001b[0m\u001b[0;34m.\u001b[0m\u001b[0mimshow\u001b[0m\u001b[0;34m(\u001b[0m\u001b[0mplt\u001b[0m\u001b[0;34m.\u001b[0m\u001b[0mimread\u001b[0m\u001b[0;34m(\u001b[0m\u001b[0mself\u001b[0m\u001b[0;34m.\u001b[0m\u001b[0mimages_path\u001b[0m \u001b[0;34m+\u001b[0m \u001b[0mimage_name\u001b[0m\u001b[0;34m)\u001b[0m\u001b[0;34m)\u001b[0m\u001b[0;34m\u001b[0m\u001b[0;34m\u001b[0m\u001b[0m\n\u001b[0m\u001b[1;32m     74\u001b[0m         \u001b[0mplt\u001b[0m\u001b[0;34m.\u001b[0m\u001b[0mshow\u001b[0m\u001b[0;34m(\u001b[0m\u001b[0;34m)\u001b[0m\u001b[0;34m\u001b[0m\u001b[0;34m\u001b[0m\u001b[0m\n\u001b[1;32m     75\u001b[0m \u001b[0;34m\u001b[0m\u001b[0m\n",
            "\u001b[0;32m/usr/local/lib/python3.6/dist-packages/matplotlib/pyplot.py\u001b[0m in \u001b[0;36mimread\u001b[0;34m(fname, format)\u001b[0m\n\u001b[1;32m   2126\u001b[0m \u001b[0;34m@\u001b[0m\u001b[0mdocstring\u001b[0m\u001b[0;34m.\u001b[0m\u001b[0mcopy\u001b[0m\u001b[0;34m(\u001b[0m\u001b[0mmatplotlib\u001b[0m\u001b[0;34m.\u001b[0m\u001b[0mimage\u001b[0m\u001b[0;34m.\u001b[0m\u001b[0mimread\u001b[0m\u001b[0;34m)\u001b[0m\u001b[0;34m\u001b[0m\u001b[0;34m\u001b[0m\u001b[0m\n\u001b[1;32m   2127\u001b[0m \u001b[0;32mdef\u001b[0m \u001b[0mimread\u001b[0m\u001b[0;34m(\u001b[0m\u001b[0mfname\u001b[0m\u001b[0;34m,\u001b[0m \u001b[0mformat\u001b[0m\u001b[0;34m=\u001b[0m\u001b[0;32mNone\u001b[0m\u001b[0;34m)\u001b[0m\u001b[0;34m:\u001b[0m\u001b[0;34m\u001b[0m\u001b[0;34m\u001b[0m\u001b[0m\n\u001b[0;32m-> 2128\u001b[0;31m     \u001b[0;32mreturn\u001b[0m \u001b[0mmatplotlib\u001b[0m\u001b[0;34m.\u001b[0m\u001b[0mimage\u001b[0m\u001b[0;34m.\u001b[0m\u001b[0mimread\u001b[0m\u001b[0;34m(\u001b[0m\u001b[0mfname\u001b[0m\u001b[0;34m,\u001b[0m \u001b[0mformat\u001b[0m\u001b[0;34m)\u001b[0m\u001b[0;34m\u001b[0m\u001b[0;34m\u001b[0m\u001b[0m\n\u001b[0m\u001b[1;32m   2129\u001b[0m \u001b[0;34m\u001b[0m\u001b[0m\n\u001b[1;32m   2130\u001b[0m \u001b[0;34m\u001b[0m\u001b[0m\n",
            "\u001b[0;32m/usr/local/lib/python3.6/dist-packages/matplotlib/image.py\u001b[0m in \u001b[0;36mimread\u001b[0;34m(fname, format)\u001b[0m\n\u001b[1;32m   1415\u001b[0m                              \u001b[0;34m'with Pillow installed matplotlib can handle '\u001b[0m\u001b[0;34m\u001b[0m\u001b[0;34m\u001b[0m\u001b[0m\n\u001b[1;32m   1416\u001b[0m                              'more images' % list(handlers))\n\u001b[0;32m-> 1417\u001b[0;31m         \u001b[0;32mwith\u001b[0m \u001b[0mImage\u001b[0m\u001b[0;34m.\u001b[0m\u001b[0mopen\u001b[0m\u001b[0;34m(\u001b[0m\u001b[0mfname\u001b[0m\u001b[0;34m)\u001b[0m \u001b[0;32mas\u001b[0m \u001b[0mimage\u001b[0m\u001b[0;34m:\u001b[0m\u001b[0;34m\u001b[0m\u001b[0;34m\u001b[0m\u001b[0m\n\u001b[0m\u001b[1;32m   1418\u001b[0m             \u001b[0;32mreturn\u001b[0m \u001b[0mpil_to_array\u001b[0m\u001b[0;34m(\u001b[0m\u001b[0mimage\u001b[0m\u001b[0;34m)\u001b[0m\u001b[0;34m\u001b[0m\u001b[0;34m\u001b[0m\u001b[0m\n\u001b[1;32m   1419\u001b[0m \u001b[0;34m\u001b[0m\u001b[0m\n",
            "\u001b[0;32m/usr/local/lib/python3.6/dist-packages/PIL/Image.py\u001b[0m in \u001b[0;36mopen\u001b[0;34m(fp, mode)\u001b[0m\n\u001b[1;32m   2528\u001b[0m \u001b[0;34m\u001b[0m\u001b[0m\n\u001b[1;32m   2529\u001b[0m     \u001b[0;32mif\u001b[0m \u001b[0mfilename\u001b[0m\u001b[0;34m:\u001b[0m\u001b[0;34m\u001b[0m\u001b[0;34m\u001b[0m\u001b[0m\n\u001b[0;32m-> 2530\u001b[0;31m         \u001b[0mfp\u001b[0m \u001b[0;34m=\u001b[0m \u001b[0mbuiltins\u001b[0m\u001b[0;34m.\u001b[0m\u001b[0mopen\u001b[0m\u001b[0;34m(\u001b[0m\u001b[0mfilename\u001b[0m\u001b[0;34m,\u001b[0m \u001b[0;34m\"rb\"\u001b[0m\u001b[0;34m)\u001b[0m\u001b[0;34m\u001b[0m\u001b[0;34m\u001b[0m\u001b[0m\n\u001b[0m\u001b[1;32m   2531\u001b[0m         \u001b[0mexclusive_fp\u001b[0m \u001b[0;34m=\u001b[0m \u001b[0;32mTrue\u001b[0m\u001b[0;34m\u001b[0m\u001b[0;34m\u001b[0m\u001b[0m\n\u001b[1;32m   2532\u001b[0m \u001b[0;34m\u001b[0m\u001b[0m\n",
            "\u001b[0;31mFileNotFoundError\u001b[0m: [Errno 2] No such file or directory: '/content/drive/My Drive/Colab Notebooks/neural_image_captioning-master/neural_image_captioning-master/datasets/IAPR_2012/iaprtc12/images/06/6458.jpg'"
          ]
        }
      ]
    },
    {
      "cell_type": "markdown",
      "metadata": {
        "id": "xuJQbHNgcc_O",
        "colab_type": "text"
      },
      "source": [
        "##To Do List\n",
        "\n",
        "* iaprtc12 다운 후 압축 풀기 > 해당 경로로 옮기기"
      ]
    }
  ]
}